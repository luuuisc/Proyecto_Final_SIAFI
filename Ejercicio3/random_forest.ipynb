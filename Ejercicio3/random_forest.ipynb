{
 "cells": [
  {
   "cell_type": "markdown",
   "metadata": {},
   "source": [
    "# Clasificación de videojuegos por popularidad. | Bosques aleatorios (Random Forest)\n",
    "\n",
    "Descripción:\n",
    "Clasifica videojuegos como \"muy populares\" , \"moderadamente populares\" o \"menos\n",
    "populares\" basándote en ventas, calificaciones y datos de usuarios activos."
   ]
  },
  {
   "cell_type": "code",
   "execution_count": 1,
   "metadata": {},
   "outputs": [],
   "source": [
    "# Importamos las librerias necesarias\n",
    "import pandas as pd \n",
    "import numpy as np \n",
    "from sklearn.ensemble import RandomForestClassifier\n",
    "from sklearn.model_selection import train_test_split\n",
    "from sklearn.metrics import classification_report, accuracy_score\n",
    "import matplotlib.pyplot as plt\n",
    "import seaborn as sns "
   ]
  },
  {
   "cell_type": "markdown",
   "metadata": {},
   "source": [
    "### Cargamos el Dataset "
   ]
  },
  {
   "cell_type": "code",
   "execution_count": 2,
   "metadata": {},
   "outputs": [
    {
     "name": "stdout",
     "output_type": "stream",
     "text": [
      "                                             img                        title  \\\n",
      "0  /games/boxart/full_6510540AmericaFrontccc.jpg           Grand Theft Auto V   \n",
      "1  /games/boxart/full_5563178AmericaFrontccc.jpg           Grand Theft Auto V   \n",
      "2                    /games/boxart/827563ccc.jpg  Grand Theft Auto: Vice City   \n",
      "3  /games/boxart/full_9218923AmericaFrontccc.jpg           Grand Theft Auto V   \n",
      "4  /games/boxart/full_4990510AmericaFrontccc.jpg    Call of Duty: Black Ops 3   \n",
      "\n",
      "  console    genre       publisher       developer  critic_score  total_sales  \\\n",
      "0     PS3   Action  Rockstar Games  Rockstar North           9.4        20.32   \n",
      "1     PS4   Action  Rockstar Games  Rockstar North           9.7        19.39   \n",
      "2     PS2   Action  Rockstar Games  Rockstar North           9.6        16.15   \n",
      "3    X360   Action  Rockstar Games  Rockstar North           NaN        15.86   \n",
      "4     PS4  Shooter      Activision        Treyarch           8.1        15.09   \n",
      "\n",
      "   na_sales  jp_sales  pal_sales  other_sales release_date last_update  \n",
      "0      6.37      0.99       9.85         3.12   2013-09-17         NaN  \n",
      "1      6.06      0.60       9.71         3.02   2014-11-18  2018-01-03  \n",
      "2      8.41      0.47       5.49         1.78   2002-10-28         NaN  \n",
      "3      9.06      0.06       5.33         1.42   2013-09-17         NaN  \n",
      "4      6.18      0.41       6.05         2.44   2015-11-06  2018-01-14  \n"
     ]
    }
   ],
   "source": [
    "# Cargar el dataset \n",
    "file_path = \"juegos.csv\"\n",
    "df = pd.read_csv(file_path)\n",
    "\n",
    "# Mostrar las primeras filas \n",
    "print(df.head())"
   ]
  },
  {
   "cell_type": "markdown",
   "metadata": {},
   "source": [
    "### Explorar el Dataset y limpieza de datos"
   ]
  },
  {
   "cell_type": "code",
   "execution_count": 3,
   "metadata": {},
   "outputs": [
    {
     "name": "stdout",
     "output_type": "stream",
     "text": [
      "<class 'pandas.core.frame.DataFrame'>\n",
      "RangeIndex: 64016 entries, 0 to 64015\n",
      "Data columns (total 14 columns):\n",
      " #   Column        Non-Null Count  Dtype  \n",
      "---  ------        --------------  -----  \n",
      " 0   img           64016 non-null  object \n",
      " 1   title         64016 non-null  object \n",
      " 2   console       64016 non-null  object \n",
      " 3   genre         64016 non-null  object \n",
      " 4   publisher     64016 non-null  object \n",
      " 5   developer     63999 non-null  object \n",
      " 6   critic_score  6678 non-null   float64\n",
      " 7   total_sales   18922 non-null  float64\n",
      " 8   na_sales      12637 non-null  float64\n",
      " 9   jp_sales      6726 non-null   float64\n",
      " 10  pal_sales     12824 non-null  float64\n",
      " 11  other_sales   15128 non-null  float64\n",
      " 12  release_date  56965 non-null  object \n",
      " 13  last_update   17879 non-null  object \n",
      "dtypes: float64(6), object(8)\n",
      "memory usage: 6.8+ MB\n",
      "None\n",
      "       critic_score  total_sales    na_sales    jp_sales   pal_sales  \\\n",
      "count    282.000000   282.000000  282.000000  282.000000  282.000000   \n",
      "mean       7.659929     1.874149    0.757589    0.106596    0.765532   \n",
      "std        1.203786     2.895821    1.250511    0.157181    1.381634   \n",
      "min        3.000000     0.020000    0.010000    0.000000    0.000000   \n",
      "25%        7.000000     0.370000    0.140000    0.020000    0.090000   \n",
      "50%        7.900000     0.710000    0.265000    0.050000    0.270000   \n",
      "75%        8.500000     1.882500    0.717500    0.137500    0.612500   \n",
      "max        9.800000    19.390000    8.270000    1.430000    9.710000   \n",
      "\n",
      "       other_sales  \n",
      "count   282.000000  \n",
      "mean      0.244149  \n",
      "std       0.432566  \n",
      "min       0.000000  \n",
      "25%       0.030000  \n",
      "50%       0.060000  \n",
      "75%       0.247500  \n",
      "max       3.020000  \n",
      "Columnas disponibles:  Index(['img', 'title', 'console', 'genre', 'publisher', 'developer',\n",
      "       'critic_score', 'total_sales', 'na_sales', 'jp_sales', 'pal_sales',\n",
      "       'other_sales', 'release_date', 'last_update'],\n",
      "      dtype='object')\n"
     ]
    }
   ],
   "source": [
    "# Informacion del dataset\n",
    "print(df.info())\n",
    "\n",
    "# Eliminar duplicados\n",
    "df = df.drop_duplicates()\n",
    "\n",
    "# Eliminar valores nulos \n",
    "df = df.dropna()\n",
    "\n",
    "# Estadísiticas del dataset\n",
    "print(df.describe())\n",
    "\n",
    "# Visualizar las columas\n",
    "print(\"Columnas disponibles: \", df.columns)"
   ]
  }
 ],
 "metadata": {
  "kernelspec": {
   "display_name": "base",
   "language": "python",
   "name": "python3"
  },
  "language_info": {
   "codemirror_mode": {
    "name": "ipython",
    "version": 3
   },
   "file_extension": ".py",
   "mimetype": "text/x-python",
   "name": "python",
   "nbconvert_exporter": "python",
   "pygments_lexer": "ipython3",
   "version": "3.11.7"
  }
 },
 "nbformat": 4,
 "nbformat_minor": 2
}
